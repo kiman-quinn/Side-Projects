{
  "cells": [
    {
      "cell_type": "markdown",
      "metadata": {
        "id": "250ZhrOKe1Te"
      },
      "source": [
        "# Monte Carlo Simulation\n",
        "***"
      ]
    },
    {
      "cell_type": "markdown",
      "metadata": {
        "id": "ksoOj40tfKAG"
      },
      "source": [
        "- Monte Carlo are simulations evolving randomly\n",
        "- Example of a marble dropping device:\n",
        "  - One big circle bowl and a small square bowl\n",
        "  - After a while of randomly dropping marbles into bowls, weight of big bowl / weight of small bowl is roughly pi\n",
        "  - Probability of marble dropping into bowl is proportional to bowl's cross section area\n",
        "  - Area of circle bowl is pi*r2, and area of square bowl is r2 which is why we get pi when dividing the two\n",
        "  - We determine the area of the bowls by taking the random samples using monte carlo simulation!\n",
        "- Example of finding random height of all people:\n",
        "  - Measure height of small group of people\n",
        "  - Make sure group is unbiased -- so we will randomly select group\n",
        "  - Use a large enough sample (Law of large numbers -- average approaches true value for the more samples we have)\n",
        "  - We can rely on randomly selected samples rather than measuring every single person's height\n",
        "  - Eventually will approach expected value\n",
        "\n",
        "- Can probably use Monte Carlo for lineup optimization... add batting average for each player etc and run simulations on different order on if you'll win or not"
      ]
    },
    {
      "cell_type": "code",
      "execution_count": 11,
      "metadata": {
        "id": "P2wFiHkTe3GF"
      },
      "outputs": [],
      "source": [
        "# Is it better to take the 2 or the 3? Is it better to use a DH or a struggling batter?"
      ]
    },
    {
      "cell_type": "code",
      "execution_count": 12,
      "metadata": {
        "id": "kMgufkvLh7RZ"
      },
      "outputs": [],
      "source": [
        "# Run the scenario many times and see which fraction do we end up winning"
      ]
    },
    {
      "cell_type": "markdown",
      "metadata": {
        "id": "XzI7YZaNkRfu"
      },
      "source": [
        "### Basketball Example: Should you take the 2 or 3 to win the game"
      ]
    },
    {
      "cell_type": "code",
      "execution_count": 22,
      "metadata": {
        "id": "vEqOvgfep-NG"
      },
      "outputs": [],
      "source": [
        "import numpy as np"
      ]
    },
    {
      "cell_type": "code",
      "execution_count": 31,
      "metadata": {
        "id": "4R-PARNyju3E"
      },
      "outputs": [],
      "source": [
        "trials = 50 # number of trials to run for simulation\n",
        "three_pt_perc = 25\n",
        "two_pt_perc = 60\n",
        "opp_two_pt_perc = 40\n",
        "opp_ft_perc = 65\n",
        "time_to_shoot_2 = 5 # seconds to shoot a 2\n",
        "time_to_foul = 5 # how many seconds to foul\n",
        "offensive_rebound_perc = 25\n",
        "ft_rebound_perc = 15\n",
        "overtime_percent = 50 # % change of winning in overtime"
      ]
    },
    {
      "cell_type": "code",
      "execution_count": 32,
      "metadata": {
        "id": "DgQIZN7Gk_qj"
      },
      "outputs": [],
      "source": [
        "def takeThree(three_pt_perc):\n",
        "  \"\"\"Simulation going for OT and taking a three\"\"\"\n",
        "  if (np.random.rand() * 100) <= three_pt_perc:\n",
        "    return 1 # win!\n",
        "  else:\n",
        "    return 0 # either missed 3 or lost in OT"
      ]
    },
    {
      "cell_type": "code",
      "execution_count": 33,
      "metadata": {
        "id": "WVQ4StualydN"
      },
      "outputs": [],
      "source": [
        "def takeTwo(two_pt_perc,\n",
        "            opp_two_pt_perc,\n",
        "            offensive_rebound_perc,\n",
        "            opp_ft_perc,\n",
        "            overtime_percent,\n",
        "            time_to_shoot_2,\n",
        "            time_to_foul,\n",
        "            ft_rebound_perc\n",
        "            ):\n",
        "  \"\"\"Simulation taking a two and fouling for another posession\"\"\"\n",
        "  have_posession = True\n",
        "  points_down = 3\n",
        "  time_left = 30\n",
        "  while time_left>0:\n",
        "    if have_posession:\n",
        "      # down by 3 or more, take 2 quickly. If down 2 or less, run down the clock first\n",
        "      if points_down >= 3:\n",
        "        time_left -= time_to_shoot_2\n",
        "      else:\n",
        "        time_left = 0\n",
        "      # do we make the shot - go for the 2\n",
        "      if (np.random.rand() * 100) <= two_pt_perc:\n",
        "        points_down -= 2\n",
        "        have_posession = False\n",
        "      else:\n",
        "        # missed shot does the other team rebound it\n",
        "        if (np.random.rand() * 100) > offensive_rebound_perc:\n",
        "          have_posession = False\n",
        "    else: # we don't have posession\n",
        "      if points_down > 0:\n",
        "        # foul to get posession back\n",
        "        time_left -= time_to_foul\n",
        "        # opponent takes their two free throws\n",
        "        if (np.random.rand() * 100) <= opp_ft_perc:\n",
        "          # free throw 1\n",
        "          points_down += 1\n",
        "        if (np.random.rand() * 100) <= opp_ft_perc:\n",
        "          # free throw 2\n",
        "          points_down += 1\n",
        "        elif (np.random.rand() * 100) > ft_rebound_perc:\n",
        "          # missed second free throw and we rebound\n",
        "          have_posession = True\n",
        "        else:\n",
        "          # missed free throw and they rebound\n",
        "          # tied up so we want to foul and opponent is likely to take a true\n",
        "          if (np.random.rand() * 100) <= opp_two_pt_perc:\n",
        "            points_down -= 2\n",
        "          time_left = 0\n",
        "  if points_down > 0:\n",
        "    return 0 # lost game\n",
        "  elif points_down < 0:\n",
        "    return 1 # won game\n",
        "  else:\n",
        "    # going to overtime\n",
        "    if (np.random.rand() * 100) <= overtime_percent:\n",
        "      return 1 # win!\n",
        "    else:\n",
        "      return 0 # either missed 3 or lost in OT\n"
      ]
    },
    {
      "cell_type": "code",
      "execution_count": 34,
      "metadata": {
        "id": "cMku-1c2opKK"
      },
      "outputs": [],
      "source": [
        "def simulate(trials,\n",
        "            three_pt_perc,\n",
        "            two_pt_perc,\n",
        "            opp_two_pt_perc,\n",
        "            offensive_rebound_perc,\n",
        "            opp_ft_perc,\n",
        "            overtime_percent,\n",
        "            time_to_shoot_2,\n",
        "            time_to_foul,\n",
        "            ft_rebound_perc):\n",
        "  \"\"\"run scenario as many times as defined and find the fraction we end up winning\"\"\"\n",
        "  wins_three = 0\n",
        "  wins_two = 0\n",
        "  for i in range(trials):\n",
        "    wins_three += takeThree(three_pt_perc)\n",
        "    wins_two += takeTwo(two_pt_perc,\n",
        "            opp_two_pt_perc,\n",
        "            offensive_rebound_perc,\n",
        "            opp_ft_perc,\n",
        "            overtime_percent,\n",
        "            time_to_shoot_2,\n",
        "            time_to_foul,\n",
        "            ft_rebound_perc\n",
        "            )\n",
        "  return wins_three/trials, wins_two/trials"
      ]
    },
    {
      "cell_type": "code",
      "execution_count": 35,
      "metadata": {
        "id": "awV7ESzCpsWg"
      },
      "outputs": [],
      "source": [
        "simulate_three, simulate_two = simulate(trials,\n",
        "            three_pt_perc,\n",
        "            two_pt_perc,\n",
        "            opp_two_pt_perc,\n",
        "            offensive_rebound_perc,\n",
        "            opp_ft_perc,\n",
        "            overtime_percent,\n",
        "            time_to_shoot_2,\n",
        "            time_to_foul,\n",
        "            ft_rebound_perc)"
      ]
    },
    {
      "cell_type": "code",
      "execution_count": 36,
      "metadata": {
        "colab": {
          "base_uri": "https://localhost:8080/"
        },
        "id": "jeBMenaAqBEz",
        "outputId": "efa9b329-9422-496e-bdbc-53c596cf8c73"
      },
      "outputs": [
        {
          "name": "stdout",
          "output_type": "stream",
          "text": [
            "Monte Carlo Probability of Winning with a three: 0.24\n",
            "Monte Carlo Probability of Winning with a two: 0.1\n"
          ]
        }
      ],
      "source": [
        "print('Monte Carlo Probability of Winning with a three:', simulate_three)\n",
        "print('Monte Carlo Probability of Winning with a two:', simulate_two)"
      ]
    },
    {
      "cell_type": "markdown",
      "metadata": {
        "id": "uH8if97QlG33"
      },
      "source": [
        "### Baseball Example: Should you pinch hit?"
      ]
    },
    {
      "cell_type": "code",
      "execution_count": null,
      "metadata": {
        "id": "2JLFieEXlNAV"
      },
      "outputs": [],
      "source": [
        "# defense\n",
        "# ops (current and pinch)\n",
        "# ba (current and pinch)\n",
        "# ba with bases loaded\n",
        "# pitcher era\n",
        "# pitcher whip\n",
        "# pitcher history with batter\n",
        "# types of pitches"
      ]
    }
  ],
  "metadata": {
    "colab": {
      "collapsed_sections": [
        "a_qyn221VEdY",
        "ZMDIG1XVSpT-"
      ],
      "provenance": []
    },
    "kernelspec": {
      "display_name": "Python 3",
      "name": "python3"
    },
    "language_info": {
      "name": "python"
    }
  },
  "nbformat": 4,
  "nbformat_minor": 0
}
