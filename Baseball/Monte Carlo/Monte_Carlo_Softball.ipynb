{
 "cells": [
  {
   "cell_type": "markdown",
   "metadata": {},
   "source": [
    "# Simulate UT Softball Lineups using Monte Carlo\n",
    "***"
   ]
  },
  {
   "cell_type": "code",
   "execution_count": 1,
   "metadata": {},
   "outputs": [],
   "source": [
    "import random\n",
    "import itertools"
   ]
  },
  {
   "cell_type": "code",
   "execution_count": 48,
   "metadata": {},
   "outputs": [],
   "source": [
    "# UT Softball\n",
    "players = [\n",
    "    {\"name\": \"Ashton Maloney\", \"BB\":0.08, \"1B\":0.31, \"2B\":0.04, \"3B\":0.01, \"HR\":0.0},\n",
    "    {\"name\": \"Kayden Henry\", \"BB\":0.09, \"1B\":0.29, \"2B\":0.06, \"3B\":0.02, \"HR\":0.01},\n",
    "    {\"name\": \"Mia Scott\", \"BB\":0.13, \"1B\":0.24, \"2B\":0.07, \"3B\":0.01, \"HR\":0.04},\n",
    "    {\"name\": \"Reese Atwood\", \"BB\":0.18, \"1B\":0.17, \"2B\":0.06, \"3B\":0.02, \"HR\":0.09},\n",
    "    {\"name\": \"Katie Stewart\", \"BB\":0.10, \"1B\":0.17, \"2B\":0.05, \"3B\":0.0, \"HR\":0.07},\n",
    "    {\"name\": \"Joley Mitchell\", \"BB\":0.18, \"1B\":0.17, \"2B\":0.05, \"3B\":0.01, \"HR\":0.08},\n",
    "    {\"name\": \"Victoria Hunter\", \"BB\":0.15, \"1B\":0.07, \"2B\":0.04, \"3B\":0.0, \"HR\":0.06},\n",
    "    {\"name\": \"Vanessa Quiroga\", \"BB\":0.06, \"1B\":0.13, \"2B\":0.02, \"3B\":0.0, \"HR\":0.07},\n",
    "    {\"name\": \"Leighann Goode\", \"BB\":0.08, \"1B\":0.15, \"2B\":0.04, \"3B\":0.01, \"HR\":0.04},\n",
    "]"
   ]
  },
  {
   "cell_type": "code",
   "execution_count": 46,
   "metadata": {},
   "outputs": [
    {
     "data": {
      "text/plain": [
       "0.03773584905660377"
      ]
     },
     "execution_count": 46,
     "metadata": {},
     "output_type": "execute_result"
    }
   ],
   "source": [
    "# calculate stats from webside\n",
    "\n",
    "# # AB + SF + SH + HBP + BB\n",
    "# plate_appearances = 136 + 5 + 3 + 13 + 2\n",
    "# # 1B = H - (2B+3B+HR)\n",
    "# single = 38 - (6+2+6)\n",
    "# stat = 6\n",
    "# stat / plate_appearances\n"
   ]
  },
  {
   "cell_type": "code",
   "execution_count": 49,
   "metadata": {},
   "outputs": [
    {
     "data": {
      "text/plain": [
       "[{'name': 'Ashton Maloney',\n",
       "  'BB': 0.08,\n",
       "  '1B': 0.31,\n",
       "  '2B': 0.04,\n",
       "  '3B': 0.01,\n",
       "  'HR': 0.0,\n",
       "  'OUT': 0.56},\n",
       " {'name': 'Kayden Henry',\n",
       "  'BB': 0.09,\n",
       "  '1B': 0.29,\n",
       "  '2B': 0.06,\n",
       "  '3B': 0.02,\n",
       "  'HR': 0.01,\n",
       "  'OUT': 0.53},\n",
       " {'name': 'Mia Scott',\n",
       "  'BB': 0.13,\n",
       "  '1B': 0.24,\n",
       "  '2B': 0.07,\n",
       "  '3B': 0.01,\n",
       "  'HR': 0.04,\n",
       "  'OUT': 0.51},\n",
       " {'name': 'Reese Atwood',\n",
       "  'BB': 0.18,\n",
       "  '1B': 0.17,\n",
       "  '2B': 0.06,\n",
       "  '3B': 0.02,\n",
       "  'HR': 0.09,\n",
       "  'OUT': 0.48},\n",
       " {'name': 'Katie Stewart',\n",
       "  'BB': 0.1,\n",
       "  '1B': 0.17,\n",
       "  '2B': 0.05,\n",
       "  '3B': 0.0,\n",
       "  'HR': 0.07,\n",
       "  'OUT': 0.61},\n",
       " {'name': 'Joley Mitchell',\n",
       "  'BB': 0.18,\n",
       "  '1B': 0.17,\n",
       "  '2B': 0.05,\n",
       "  '3B': 0.01,\n",
       "  'HR': 0.08,\n",
       "  'OUT': 0.51},\n",
       " {'name': 'Victoria Hunter',\n",
       "  'BB': 0.15,\n",
       "  '1B': 0.07,\n",
       "  '2B': 0.04,\n",
       "  '3B': 0.0,\n",
       "  'HR': 0.06,\n",
       "  'OUT': 0.6799999999999999},\n",
       " {'name': 'Vanessa Quiroga',\n",
       "  'BB': 0.06,\n",
       "  '1B': 0.13,\n",
       "  '2B': 0.02,\n",
       "  '3B': 0.0,\n",
       "  'HR': 0.07,\n",
       "  'OUT': 0.72},\n",
       " {'name': 'Leighann Goode',\n",
       "  'BB': 0.08,\n",
       "  '1B': 0.15,\n",
       "  '2B': 0.04,\n",
       "  '3B': 0.01,\n",
       "  'HR': 0.04,\n",
       "  'OUT': 0.68}]"
      ]
     },
     "execution_count": 49,
     "metadata": {},
     "output_type": "execute_result"
    }
   ],
   "source": [
    "# add \"out\" probability\n",
    "for p in players:\n",
    "    p['OUT'] = 1.0 - (p['BB'] + p['1B'] + p['2B'] + p['3B'] + p['HR'])\n",
    "\n",
    "players"
   ]
  },
  {
   "cell_type": "code",
   "execution_count": 50,
   "metadata": {},
   "outputs": [],
   "source": [
    "# simulate one plate appearance\n",
    "def simulate_pa(player):\n",
    "    random_prob = random.random()\n",
    "    thresholds = [\n",
    "        ('BB', player['BB']),\n",
    "        ('1B', player['1B']),\n",
    "        ('2B', player['2B']),\n",
    "        ('3B', player['3B']),\n",
    "        ('HR', player['HR']),\n",
    "    ]\n",
    "    cumulative = 0\n",
    "    for outcome, prob in thresholds:\n",
    "        cumulative += prob\n",
    "        if random_prob < cumulative:\n",
    "            return outcome\n",
    "    return \"OUT\""
   ]
  },
  {
   "cell_type": "markdown",
   "metadata": {},
   "source": [
    "For example if a random value generated is 0.28 and we have the following probailities:\n",
    "- walk = 10%\n",
    "- single = 20%\n",
    "- double = 5%\n",
    "- triple = 1%\n",
    "- homerun = 6%\n",
    "- out = 58%\n",
    "\n",
    "Then we have the following thresholds:\n",
    "\n",
    "- walk (0 -> 0.1)\n",
    "- 1B (0.1 -> 0.3)\n",
    "- 2B (0.3 -> 0.35)\n",
    "- 3B (0.35 -> 0.36)\n",
    "- HR (0.36-> 0.42)\n",
    "- OUT (0.42 - 1.0)\n",
    "Based on these thresholds and the random value generated we assume the event that occured was a single\n"
   ]
  },
  {
   "cell_type": "code",
   "execution_count": 51,
   "metadata": {},
   "outputs": [],
   "source": [
    "# simulate one inning\n",
    "def simulate_inning(lineup, batter_index):\n",
    "    outs = 0\n",
    "    runs = 0\n",
    "    bases = [False, False, False] # 1B, 2B, 3B\n",
    "\n",
    "    while outs < 3:\n",
    "        player = lineup[batter_index % len(lineup)]\n",
    "        result = simulate_pa(player)\n",
    "\n",
    "        if result == \"OUT\":\n",
    "            outs += 1\n",
    "        elif result == \"BB\" or result == \"1B\":\n",
    "            # walk or single so base runners advance one\n",
    "            if bases[2]:\n",
    "                runs += 1\n",
    "                bases[2] = False\n",
    "            if bases[1]:\n",
    "                bases[2] = True\n",
    "                bases[1] = False\n",
    "            if bases[0]:\n",
    "                bases[1] = True\n",
    "            bases[0] = True\n",
    "        elif result == \"2B\":\n",
    "            # Double so base runners advance 2\n",
    "            if bases[2]:\n",
    "                runs += 1\n",
    "                bases[2] = False\n",
    "            if bases[1]:\n",
    "                runs += 1\n",
    "                bases[1] = False\n",
    "            if bases[0]:\n",
    "                bases[2] = True\n",
    "                bases[0] = False\n",
    "            bases[1] = True\n",
    "        elif result == \"3B\":\n",
    "            # triple so base runners advance 3\n",
    "            runs += sum(bases)\n",
    "            bases = [False, False, False]\n",
    "            bases[2] = True\n",
    "        elif result == \"HR\":\n",
    "            # homerun so all runnes and batter scores\n",
    "            runs += 1 + sum(bases)\n",
    "            bases = [False, False, False]\n",
    "        batter_index += 1\n",
    "    return runs, batter_index"
   ]
  },
  {
   "cell_type": "code",
   "execution_count": 52,
   "metadata": {},
   "outputs": [],
   "source": [
    "# simulate game (7 innings)\n",
    "def simulate_game(lineup):\n",
    "    runs = 0\n",
    "    batter_index = 0\n",
    "    for inning in range(1,8):\n",
    "        inning_runs, batter_index = simulate_inning(lineup, batter_index)\n",
    "        runs += inning_runs\n",
    "    return runs"
   ]
  },
  {
   "cell_type": "code",
   "execution_count": 53,
   "metadata": {},
   "outputs": [],
   "source": [
    "# simulate multiple games for same lineup\n",
    "def average_runs(lineup, num_games = 1000):\n",
    "    total_runs = sum(simulate_game(lineup) for _ in range (num_games))\n",
    "    return total_runs / num_games"
   ]
  },
  {
   "cell_type": "code",
   "execution_count": 54,
   "metadata": {},
   "outputs": [],
   "source": [
    "# randomly find best lineup\n",
    "def find_best_lineup(players, num_lineups=1000):\n",
    "    best_avg = 0\n",
    "    best_lineup = None\n",
    "    for i in range(num_lineups):\n",
    "        lineup = random.sample(players, len(players))\n",
    "        avg = average_runs(lineup, num_games=200)\n",
    "        if avg > best_avg:\n",
    "            best_avg = avg\n",
    "            best_lineup = lineup\n",
    "    return best_lineup, best_avg"
   ]
  },
  {
   "cell_type": "code",
   "execution_count": 68,
   "metadata": {},
   "outputs": [],
   "source": [
    "# run optimizer\n",
    "best_lineup, best_runs = find_best_lineup(players, num_lineups=500)"
   ]
  },
  {
   "cell_type": "code",
   "execution_count": 69,
   "metadata": {},
   "outputs": [
    {
     "name": "stdout",
     "output_type": "stream",
     "text": [
      "Best Line Up Order:\n",
      "1: Reese Atwood\n",
      "2: Katie Stewart\n",
      "3: Kayden Henry\n",
      "4: Leighann Goode\n",
      "5: Joley Mitchell\n",
      "6: Mia Scott\n",
      "7: Vanessa Quiroga\n",
      "8: Ashton Maloney\n",
      "9: Victoria Hunter\n",
      "Average runs per game = 7.07\n"
     ]
    }
   ],
   "source": [
    "print('Best Line Up Order:')\n",
    "for i, player in enumerate(best_lineup, start=1):\n",
    "    print(f\"{i}: {player['name']}\")\n",
    "print(f'Average runs per game = {best_runs:.2f}')"
   ]
  },
  {
   "cell_type": "markdown",
   "metadata": {},
   "source": [
    "# Next Steps\n",
    "- take into account opposing team pitching / defense\n",
    "- take into account home or away\n",
    "- simulate steals, douple plays, errors, etc."
   ]
  },
  {
   "cell_type": "code",
   "execution_count": null,
   "metadata": {},
   "outputs": [],
   "source": []
  },
  {
   "cell_type": "code",
   "execution_count": null,
   "metadata": {},
   "outputs": [],
   "source": []
  }
 ],
 "metadata": {
  "kernelspec": {
   "display_name": "softball_env",
   "language": "python",
   "name": "python3"
  },
  "language_info": {
   "codemirror_mode": {
    "name": "ipython",
    "version": 3
   },
   "file_extension": ".py",
   "mimetype": "text/x-python",
   "name": "python",
   "nbconvert_exporter": "python",
   "pygments_lexer": "ipython3",
   "version": "3.13.1"
  },
  "orig_nbformat": 4
 },
 "nbformat": 4,
 "nbformat_minor": 2
}
