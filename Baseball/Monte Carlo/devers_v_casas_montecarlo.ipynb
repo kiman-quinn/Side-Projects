{
  "cells": [
    {
      "cell_type": "markdown",
      "metadata": {
        "id": "a_qyn221VEdY"
      },
      "source": [
        "# Install"
      ]
    },
    {
      "cell_type": "code",
      "execution_count": 16,
      "metadata": {
        "colab": {
          "base_uri": "https://localhost:8080/"
        },
        "id": "xGgxR9lMSGx_",
        "outputId": "51ec6d52-74d3-4fd1-bc34-cba28c4264c7"
      },
      "outputs": [
        {
          "name": "stdout",
          "output_type": "stream",
          "text": [
            "Requirement already satisfied: pybaseball in /usr/local/lib/python3.11/dist-packages (2.2.7)\n",
            "Requirement already satisfied: numpy>=1.13.0 in /usr/local/lib/python3.11/dist-packages (from pybaseball) (2.0.2)\n",
            "Requirement already satisfied: pandas>=1.0.3 in /usr/local/lib/python3.11/dist-packages (from pybaseball) (2.2.2)\n",
            "Requirement already satisfied: beautifulsoup4>=4.4.0 in /usr/local/lib/python3.11/dist-packages (from pybaseball) (4.13.4)\n",
            "Requirement already satisfied: requests>=2.18.1 in /usr/local/lib/python3.11/dist-packages (from pybaseball) (2.32.3)\n",
            "Requirement already satisfied: lxml>=4.2.1 in /usr/local/lib/python3.11/dist-packages (from pybaseball) (5.3.2)\n",
            "Requirement already satisfied: pyarrow>=1.0.1 in /usr/local/lib/python3.11/dist-packages (from pybaseball) (18.1.0)\n",
            "Requirement already satisfied: pygithub>=1.51 in /usr/local/lib/python3.11/dist-packages (from pybaseball) (2.6.1)\n",
            "Requirement already satisfied: scipy>=1.4.0 in /usr/local/lib/python3.11/dist-packages (from pybaseball) (1.14.1)\n",
            "Requirement already satisfied: matplotlib>=2.0.0 in /usr/local/lib/python3.11/dist-packages (from pybaseball) (3.10.0)\n",
            "Requirement already satisfied: tqdm>=4.50.0 in /usr/local/lib/python3.11/dist-packages (from pybaseball) (4.67.1)\n",
            "Requirement already satisfied: attrs>=20.3.0 in /usr/local/lib/python3.11/dist-packages (from pybaseball) (25.3.0)\n",
            "Requirement already satisfied: soupsieve>1.2 in /usr/local/lib/python3.11/dist-packages (from beautifulsoup4>=4.4.0->pybaseball) (2.7)\n",
            "Requirement already satisfied: typing-extensions>=4.0.0 in /usr/local/lib/python3.11/dist-packages (from beautifulsoup4>=4.4.0->pybaseball) (4.13.2)\n",
            "Requirement already satisfied: contourpy>=1.0.1 in /usr/local/lib/python3.11/dist-packages (from matplotlib>=2.0.0->pybaseball) (1.3.2)\n",
            "Requirement already satisfied: cycler>=0.10 in /usr/local/lib/python3.11/dist-packages (from matplotlib>=2.0.0->pybaseball) (0.12.1)\n",
            "Requirement already satisfied: fonttools>=4.22.0 in /usr/local/lib/python3.11/dist-packages (from matplotlib>=2.0.0->pybaseball) (4.57.0)\n",
            "Requirement already satisfied: kiwisolver>=1.3.1 in /usr/local/lib/python3.11/dist-packages (from matplotlib>=2.0.0->pybaseball) (1.4.8)\n",
            "Requirement already satisfied: packaging>=20.0 in /usr/local/lib/python3.11/dist-packages (from matplotlib>=2.0.0->pybaseball) (24.2)\n",
            "Requirement already satisfied: pillow>=8 in /usr/local/lib/python3.11/dist-packages (from matplotlib>=2.0.0->pybaseball) (11.1.0)\n",
            "Requirement already satisfied: pyparsing>=2.3.1 in /usr/local/lib/python3.11/dist-packages (from matplotlib>=2.0.0->pybaseball) (3.2.3)\n",
            "Requirement already satisfied: python-dateutil>=2.7 in /usr/local/lib/python3.11/dist-packages (from matplotlib>=2.0.0->pybaseball) (2.8.2)\n",
            "Requirement already satisfied: pytz>=2020.1 in /usr/local/lib/python3.11/dist-packages (from pandas>=1.0.3->pybaseball) (2025.2)\n",
            "Requirement already satisfied: tzdata>=2022.7 in /usr/local/lib/python3.11/dist-packages (from pandas>=1.0.3->pybaseball) (2025.2)\n",
            "Requirement already satisfied: pynacl>=1.4.0 in /usr/local/lib/python3.11/dist-packages (from pygithub>=1.51->pybaseball) (1.5.0)\n",
            "Requirement already satisfied: pyjwt>=2.4.0 in /usr/local/lib/python3.11/dist-packages (from pyjwt[crypto]>=2.4.0->pygithub>=1.51->pybaseball) (2.10.1)\n",
            "Requirement already satisfied: urllib3>=1.26.0 in /usr/local/lib/python3.11/dist-packages (from pygithub>=1.51->pybaseball) (2.3.0)\n",
            "Requirement already satisfied: Deprecated in /usr/local/lib/python3.11/dist-packages (from pygithub>=1.51->pybaseball) (1.2.18)\n",
            "Requirement already satisfied: charset-normalizer<4,>=2 in /usr/local/lib/python3.11/dist-packages (from requests>=2.18.1->pybaseball) (3.4.1)\n",
            "Requirement already satisfied: idna<4,>=2.5 in /usr/local/lib/python3.11/dist-packages (from requests>=2.18.1->pybaseball) (3.10)\n",
            "Requirement already satisfied: certifi>=2017.4.17 in /usr/local/lib/python3.11/dist-packages (from requests>=2.18.1->pybaseball) (2025.1.31)\n",
            "Requirement already satisfied: cryptography>=3.4.0 in /usr/local/lib/python3.11/dist-packages (from pyjwt[crypto]>=2.4.0->pygithub>=1.51->pybaseball) (43.0.3)\n",
            "Requirement already satisfied: cffi>=1.4.1 in /usr/local/lib/python3.11/dist-packages (from pynacl>=1.4.0->pygithub>=1.51->pybaseball) (1.17.1)\n",
            "Requirement already satisfied: six>=1.5 in /usr/local/lib/python3.11/dist-packages (from python-dateutil>=2.7->matplotlib>=2.0.0->pybaseball) (1.17.0)\n",
            "Requirement already satisfied: wrapt<2,>=1.10 in /usr/local/lib/python3.11/dist-packages (from Deprecated->pygithub>=1.51->pybaseball) (1.17.2)\n",
            "Requirement already satisfied: pycparser in /usr/local/lib/python3.11/dist-packages (from cffi>=1.4.1->pynacl>=1.4.0->pygithub>=1.51->pybaseball) (2.22)\n"
          ]
        }
      ],
      "source": [
        "!pip install --upgrade pybaseball"
      ]
    },
    {
      "cell_type": "markdown",
      "metadata": {
        "id": "YGzSdqPDVbla"
      },
      "source": [
        "# Imports"
      ]
    },
    {
      "cell_type": "code",
      "execution_count": 13,
      "metadata": {
        "id": "QLktTvRy93AE"
      },
      "outputs": [],
      "source": [
        "import os\n",
        "import pandas as pd\n",
        "import numpy as np\n",
        "import pybaseball as pyb\n",
        "from pybaseball import batting_stats"
      ]
    },
    {
      "cell_type": "markdown",
      "metadata": {
        "id": "250ZhrOKe1Te"
      },
      "source": [
        "# Monte Carlo Simulation\n",
        "***"
      ]
    },
    {
      "cell_type": "markdown",
      "metadata": {
        "id": "ksoOj40tfKAG"
      },
      "source": [
        "- Monte Carlo are simulations evolving randomly\n",
        "- Example of a marble dropping device:\n",
        "  - One big circle bowl and a small square bowl\n",
        "  - After a while of randomly dropping marbles into bowls, weight of big bowl / weight of small bowl is roughly pi\n",
        "  - Probability of marble dropping into bowl is proportional to bowl's cross section area\n",
        "  - Area of circle bowl is pi*r2, and area of square bowl is r2 which is why we get pi when dividing the two\n",
        "  - We determine the area of the bowls by taking the random samples using monte carlo simulation!\n",
        "- Example of finding random height of all people:\n",
        "  - Measure height of small group of people\n",
        "  - Make sure group is unbiased -- so we will randomly select group\n",
        "  - Use a large enough sample (Law of large numbers -- average approaches true value for the more samples we have)\n",
        "  - We can rely on randomly selected samples rather than measuring every single person's height\n",
        "  - Eventually will approach expected value\n",
        "\n",
        "- Can probably use Monte Carlo for lineup optimization... add batting average for each player etc and run simulations on different order on if you'll win or not"
      ]
    },
    {
      "cell_type": "markdown",
      "metadata": {
        "id": "uH8if97QlG33"
      },
      "source": [
        "### Baseball Example: Should you pinch hit?"
      ]
    },
    {
      "cell_type": "markdown",
      "metadata": {
        "id": "s8oNaAyaQGnw"
      },
      "source": [
        "Lets take the scenario of being in the 9th inning, 2 outs and the Red Sox are down 1. We have two power lefty hitters lets say Rafael Devers and Triston Casas. Should we pinch hit Casas for Devers given that Spencer Strider (Braves) is pitching against them."
      ]
    },
    {
      "cell_type": "code",
      "execution_count": 21,
      "metadata": {
        "id": "MWTcCuodQFzz"
      },
      "outputs": [],
      "source": [
        "# import and pull data\n",
        "import pybaseball as pyb\n",
        "import pandas as pd\n",
        "import numpy as np\n",
        "from pybaseball import batting_stats_range\n",
        "from pybaseball import pitching_stats_range\n",
        "from pybaseball import schedule_and_record"
      ]
    },
    {
      "cell_type": "code",
      "execution_count": 41,
      "metadata": {
        "colab": {
          "base_uri": "https://localhost:8080/"
        },
        "id": "j67Uaf7dQ-yE",
        "outputId": "42beffab-71fa-4be8-ab07-f19d9940fe68"
      },
      "outputs": [
        {
          "data": {
            "text/plain": [
              "array(['abreuwi02', 'alfarjo01', 'arroych01', 'barraky01', 'bellobr01',\n",
              "       'bernabr01', 'bleieri01', 'brasiry01', 'casastr01', 'changyu01',\n",
              "       'crawfku01', 'dalbebo01', 'dermoma01', 'deverra01', 'duranja01',\n",
              "       'duvalad01', 'fariaja01', 'garzaju01', 'hamilca01', 'hamilda03',\n",
              "       'hernaen02', 'houckta01', 'jacqujo01', 'janseke01', 'kellyza01',\n",
              "       'klubeco01', 'lametdi01', 'litteza01', 'llovema01', 'martich02',\n",
              "       'mcguire01', 'murphch01', 'ortka01', 'paxtoja01', 'pivetni01',\n",
              "       'rafaece01', 'refsnro01', 'reyespa01', 'roberni01', 'rodrijo04',\n",
              "       'salech01', 'schrejo01', 'scottta02', 'sherrry01', 'storytr01',\n",
              "       'tapiara01', 'turneju01', 'uriaslu01', 'valdeen01', 'verdual01',\n",
              "       'waltebr01', 'weissza01', 'whitlga01', 'winckjo01', 'wongco01',\n",
              "       'yoshima02'], dtype=object)"
            ]
          },
          "execution_count": 41,
          "metadata": {},
          "output_type": "execute_result"
        }
      ],
      "source": [
        "batting = pd.read_csv('Batting.csv')\n",
        "batting = batting[(batting.yearID == 2023)&(batting.teamID == 'BOS')]\n",
        "batting.playerID.unique()"
      ]
    },
    {
      "cell_type": "code",
      "execution_count": 27,
      "metadata": {
        "id": "AC1MKt7cRCKg"
      },
      "outputs": [],
      "source": [
        "devers = batting[batting.playerID == 'deverra01']\n",
        "casas = batting[batting.playerID == 'casastr01']"
      ]
    },
    {
      "cell_type": "code",
      "execution_count": 32,
      "metadata": {
        "colab": {
          "base_uri": "https://localhost:8080/"
        },
        "id": "esiRhuW0VbSk",
        "outputId": "c7aad3a6-7772-4118-fc3d-d525b29746b2"
      },
      "outputs": [
        {
          "name": "stderr",
          "output_type": "stream",
          "text": [
            "<ipython-input-32-ff959939dc72>:2: SettingWithCopyWarning: \n",
            "A value is trying to be set on a copy of a slice from a DataFrame.\n",
            "Try using .loc[row_indexer,col_indexer] = value instead\n",
            "\n",
            "See the caveats in the documentation: https://pandas.pydata.org/pandas-docs/stable/user_guide/indexing.html#returning-a-view-versus-a-copy\n",
            "  devers['OBP'] = (devers['H'] + devers['BB'] + devers['HBP']) / (devers['AB'] + devers['BB'] + devers['HBP'] + devers['SF'])\n",
            "<ipython-input-32-ff959939dc72>:3: SettingWithCopyWarning: \n",
            "A value is trying to be set on a copy of a slice from a DataFrame.\n",
            "Try using .loc[row_indexer,col_indexer] = value instead\n",
            "\n",
            "See the caveats in the documentation: https://pandas.pydata.org/pandas-docs/stable/user_guide/indexing.html#returning-a-view-versus-a-copy\n",
            "  casas['OBP'] = (casas['H'] + casas['BB'] + casas['HBP']) / (casas['AB'] + casas['BB'] + casas['HBP'] + casas['SF'])\n"
          ]
        }
      ],
      "source": [
        "# add stats to each\n",
        "devers['OBP'] = (devers['H'] + devers['BB'] + devers['HBP']) / (devers['AB'] + devers['BB'] + devers['HBP'] + devers['SF'])\n",
        "casas['OBP'] = (casas['H'] + casas['BB'] + casas['HBP']) / (casas['AB'] + casas['BB'] + casas['HBP'] + casas['SF'])"
      ]
    },
    {
      "cell_type": "code",
      "execution_count": null,
      "metadata": {
        "id": "R7hPnuveV0qH"
      },
      "outputs": [],
      "source": [
        "# get pitching stats"
      ]
    },
    {
      "cell_type": "code",
      "execution_count": 43,
      "metadata": {
        "colab": {
          "base_uri": "https://localhost:8080/"
        },
        "id": "Q-PXBG31V9-1",
        "outputId": "db32eee4-43b5-48cd-887b-fd9a4efc8dbc"
      },
      "outputs": [
        {
          "data": {
            "text/plain": [
              "array(['allarko01', 'anderni01', 'chaveje01', 'chiriyo01', 'dodddy01',\n",
              "       'elderbr01', 'friedma01', 'handbr01', 'hearnta01', 'hellebe01',\n",
              "       'hernada03', 'iglesra01', 'jimenjo02', 'johnspi01', 'leedy01',\n",
              "       'lopezni01', 'luetglu01', 'mchugco01', 'minteaj01', 'mortoch02',\n",
              "       'rodride01', 'shustja01', 'smithaj01', 'sorokmi01', 'stephja01',\n",
              "       'stridsp01', 'tonkimi01', 'vinesda01', 'winanal01', 'wrighky01',\n",
              "       'yateski01', 'youngda02'], dtype=object)"
            ]
          },
          "execution_count": 43,
          "metadata": {},
          "output_type": "execute_result"
        }
      ],
      "source": [
        "pitching = pd.read_csv('Pitching.csv')\n",
        "pitching = pitching[(pitching.yearID == 2023)&(pitching.teamID == 'ATL')]\n",
        "pitching.playerID.unique()"
      ]
    },
    {
      "cell_type": "code",
      "execution_count": 44,
      "metadata": {
        "colab": {
          "base_uri": "https://localhost:8080/",
          "height": 110
        },
        "id": "n7n7vLWuXlNJ",
        "outputId": "f70d2fec-c0d7-4481-9639-3d1b671b32e4"
      },
      "outputs": [
        {
          "data": {
            "application/vnd.google.colaboratory.intrinsic+json": {
              "type": "dataframe",
              "variable_name": "strider"
            },
            "text/html": [
              "\n",
              "  <div id=\"df-e3e1651d-b5e5-4968-894f-38c61f269f76\" class=\"colab-df-container\">\n",
              "    <div>\n",
              "<style scoped>\n",
              "    .dataframe tbody tr th:only-of-type {\n",
              "        vertical-align: middle;\n",
              "    }\n",
              "\n",
              "    .dataframe tbody tr th {\n",
              "        vertical-align: top;\n",
              "    }\n",
              "\n",
              "    .dataframe thead th {\n",
              "        text-align: right;\n",
              "    }\n",
              "</style>\n",
              "<table border=\"1\" class=\"dataframe\">\n",
              "  <thead>\n",
              "    <tr style=\"text-align: right;\">\n",
              "      <th></th>\n",
              "      <th>playerID</th>\n",
              "      <th>yearID</th>\n",
              "      <th>stint</th>\n",
              "      <th>teamID</th>\n",
              "      <th>lgID</th>\n",
              "      <th>W</th>\n",
              "      <th>L</th>\n",
              "      <th>G</th>\n",
              "      <th>GS</th>\n",
              "      <th>CG</th>\n",
              "      <th>...</th>\n",
              "      <th>IBB</th>\n",
              "      <th>WP</th>\n",
              "      <th>HBP</th>\n",
              "      <th>BK</th>\n",
              "      <th>BFP</th>\n",
              "      <th>GF</th>\n",
              "      <th>R</th>\n",
              "      <th>SH</th>\n",
              "      <th>SF</th>\n",
              "      <th>GIDP</th>\n",
              "    </tr>\n",
              "  </thead>\n",
              "  <tbody>\n",
              "    <tr>\n",
              "      <th>44673</th>\n",
              "      <td>stridsp01</td>\n",
              "      <td>2023</td>\n",
              "      <td>1</td>\n",
              "      <td>ATL</td>\n",
              "      <td>NL</td>\n",
              "      <td>20</td>\n",
              "      <td>5</td>\n",
              "      <td>32</td>\n",
              "      <td>32</td>\n",
              "      <td>0</td>\n",
              "      <td>...</td>\n",
              "      <td>1.0</td>\n",
              "      <td>6</td>\n",
              "      <td>9.0</td>\n",
              "      <td>2</td>\n",
              "      <td>763.0</td>\n",
              "      <td>0</td>\n",
              "      <td>85</td>\n",
              "      <td>0.0</td>\n",
              "      <td>0.0</td>\n",
              "      <td>6.0</td>\n",
              "    </tr>\n",
              "  </tbody>\n",
              "</table>\n",
              "<p>1 rows × 30 columns</p>\n",
              "</div>\n",
              "    <div class=\"colab-df-buttons\">\n",
              "\n",
              "  <div class=\"colab-df-container\">\n",
              "    <button class=\"colab-df-convert\" onclick=\"convertToInteractive('df-e3e1651d-b5e5-4968-894f-38c61f269f76')\"\n",
              "            title=\"Convert this dataframe to an interactive table.\"\n",
              "            style=\"display:none;\">\n",
              "\n",
              "  <svg xmlns=\"http://www.w3.org/2000/svg\" height=\"24px\" viewBox=\"0 -960 960 960\">\n",
              "    <path d=\"M120-120v-720h720v720H120Zm60-500h600v-160H180v160Zm220 220h160v-160H400v160Zm0 220h160v-160H400v160ZM180-400h160v-160H180v160Zm440 0h160v-160H620v160ZM180-180h160v-160H180v160Zm440 0h160v-160H620v160Z\"/>\n",
              "  </svg>\n",
              "    </button>\n",
              "\n",
              "  <style>\n",
              "    .colab-df-container {\n",
              "      display:flex;\n",
              "      gap: 12px;\n",
              "    }\n",
              "\n",
              "    .colab-df-convert {\n",
              "      background-color: #E8F0FE;\n",
              "      border: none;\n",
              "      border-radius: 50%;\n",
              "      cursor: pointer;\n",
              "      display: none;\n",
              "      fill: #1967D2;\n",
              "      height: 32px;\n",
              "      padding: 0 0 0 0;\n",
              "      width: 32px;\n",
              "    }\n",
              "\n",
              "    .colab-df-convert:hover {\n",
              "      background-color: #E2EBFA;\n",
              "      box-shadow: 0px 1px 2px rgba(60, 64, 67, 0.3), 0px 1px 3px 1px rgba(60, 64, 67, 0.15);\n",
              "      fill: #174EA6;\n",
              "    }\n",
              "\n",
              "    .colab-df-buttons div {\n",
              "      margin-bottom: 4px;\n",
              "    }\n",
              "\n",
              "    [theme=dark] .colab-df-convert {\n",
              "      background-color: #3B4455;\n",
              "      fill: #D2E3FC;\n",
              "    }\n",
              "\n",
              "    [theme=dark] .colab-df-convert:hover {\n",
              "      background-color: #434B5C;\n",
              "      box-shadow: 0px 1px 3px 1px rgba(0, 0, 0, 0.15);\n",
              "      filter: drop-shadow(0px 1px 2px rgba(0, 0, 0, 0.3));\n",
              "      fill: #FFFFFF;\n",
              "    }\n",
              "  </style>\n",
              "\n",
              "    <script>\n",
              "      const buttonEl =\n",
              "        document.querySelector('#df-e3e1651d-b5e5-4968-894f-38c61f269f76 button.colab-df-convert');\n",
              "      buttonEl.style.display =\n",
              "        google.colab.kernel.accessAllowed ? 'block' : 'none';\n",
              "\n",
              "      async function convertToInteractive(key) {\n",
              "        const element = document.querySelector('#df-e3e1651d-b5e5-4968-894f-38c61f269f76');\n",
              "        const dataTable =\n",
              "          await google.colab.kernel.invokeFunction('convertToInteractive',\n",
              "                                                    [key], {});\n",
              "        if (!dataTable) return;\n",
              "\n",
              "        const docLinkHtml = 'Like what you see? Visit the ' +\n",
              "          '<a target=\"_blank\" href=https://colab.research.google.com/notebooks/data_table.ipynb>data table notebook</a>'\n",
              "          + ' to learn more about interactive tables.';\n",
              "        element.innerHTML = '';\n",
              "        dataTable['output_type'] = 'display_data';\n",
              "        await google.colab.output.renderOutput(dataTable, element);\n",
              "        const docLink = document.createElement('div');\n",
              "        docLink.innerHTML = docLinkHtml;\n",
              "        element.appendChild(docLink);\n",
              "      }\n",
              "    </script>\n",
              "  </div>\n",
              "\n",
              "\n",
              "  <div id=\"id_93ab1841-8846-4fb1-8a06-14b7b8b0712f\">\n",
              "    <style>\n",
              "      .colab-df-generate {\n",
              "        background-color: #E8F0FE;\n",
              "        border: none;\n",
              "        border-radius: 50%;\n",
              "        cursor: pointer;\n",
              "        display: none;\n",
              "        fill: #1967D2;\n",
              "        height: 32px;\n",
              "        padding: 0 0 0 0;\n",
              "        width: 32px;\n",
              "      }\n",
              "\n",
              "      .colab-df-generate:hover {\n",
              "        background-color: #E2EBFA;\n",
              "        box-shadow: 0px 1px 2px rgba(60, 64, 67, 0.3), 0px 1px 3px 1px rgba(60, 64, 67, 0.15);\n",
              "        fill: #174EA6;\n",
              "      }\n",
              "\n",
              "      [theme=dark] .colab-df-generate {\n",
              "        background-color: #3B4455;\n",
              "        fill: #D2E3FC;\n",
              "      }\n",
              "\n",
              "      [theme=dark] .colab-df-generate:hover {\n",
              "        background-color: #434B5C;\n",
              "        box-shadow: 0px 1px 3px 1px rgba(0, 0, 0, 0.15);\n",
              "        filter: drop-shadow(0px 1px 2px rgba(0, 0, 0, 0.3));\n",
              "        fill: #FFFFFF;\n",
              "      }\n",
              "    </style>\n",
              "    <button class=\"colab-df-generate\" onclick=\"generateWithVariable('strider')\"\n",
              "            title=\"Generate code using this dataframe.\"\n",
              "            style=\"display:none;\">\n",
              "\n",
              "  <svg xmlns=\"http://www.w3.org/2000/svg\" height=\"24px\"viewBox=\"0 0 24 24\"\n",
              "       width=\"24px\">\n",
              "    <path d=\"M7,19H8.4L18.45,9,17,7.55,7,17.6ZM5,21V16.75L18.45,3.32a2,2,0,0,1,2.83,0l1.4,1.43a1.91,1.91,0,0,1,.58,1.4,1.91,1.91,0,0,1-.58,1.4L9.25,21ZM18.45,9,17,7.55Zm-12,3A5.31,5.31,0,0,0,4.9,8.1,5.31,5.31,0,0,0,1,6.5,5.31,5.31,0,0,0,4.9,4.9,5.31,5.31,0,0,0,6.5,1,5.31,5.31,0,0,0,8.1,4.9,5.31,5.31,0,0,0,12,6.5,5.46,5.46,0,0,0,6.5,12Z\"/>\n",
              "  </svg>\n",
              "    </button>\n",
              "    <script>\n",
              "      (() => {\n",
              "      const buttonEl =\n",
              "        document.querySelector('#id_93ab1841-8846-4fb1-8a06-14b7b8b0712f button.colab-df-generate');\n",
              "      buttonEl.style.display =\n",
              "        google.colab.kernel.accessAllowed ? 'block' : 'none';\n",
              "\n",
              "      buttonEl.onclick = () => {\n",
              "        google.colab.notebook.generateWithVariable('strider');\n",
              "      }\n",
              "      })();\n",
              "    </script>\n",
              "  </div>\n",
              "\n",
              "    </div>\n",
              "  </div>\n"
            ],
            "text/plain": [
              "        playerID  yearID  stint teamID lgID   W  L   G  GS  CG  ...  IBB  WP  \\\n",
              "44673  stridsp01    2023      1    ATL   NL  20  5  32  32   0  ...  1.0   6   \n",
              "\n",
              "       HBP  BK    BFP  GF   R   SH   SF  GIDP  \n",
              "44673  9.0   2  763.0   0  85  0.0  0.0   6.0  \n",
              "\n",
              "[1 rows x 30 columns]"
            ]
          },
          "execution_count": 44,
          "metadata": {},
          "output_type": "execute_result"
        }
      ],
      "source": [
        "strider = pitching[pitching.playerID == 'stridsp01']\n",
        "strider"
      ]
    },
    {
      "cell_type": "code",
      "execution_count": 45,
      "metadata": {
        "colab": {
          "base_uri": "https://localhost:8080/"
        },
        "id": "qbM0c8WgYGl8",
        "outputId": "bd74366e-9af1-48c9-8250-d123ae8c5c7f"
      },
      "outputs": [
        {
          "data": {
            "text/plain": [
              "Index(['playerID', 'yearID', 'stint', 'teamID', 'lgID', 'W', 'L', 'G', 'GS',\n",
              "       'CG', 'SHO', 'SV', 'IPouts', 'H', 'ER', 'HR', 'BB', 'SO', 'BAOpp',\n",
              "       'ERA', 'IBB', 'WP', 'HBP', 'BK', 'BFP', 'GF', 'R', 'SH', 'SF', 'GIDP'],\n",
              "      dtype='object')"
            ]
          },
          "execution_count": 45,
          "metadata": {},
          "output_type": "execute_result"
        }
      ],
      "source": [
        "strider.columns"
      ]
    },
    {
      "cell_type": "code",
      "execution_count": 48,
      "metadata": {
        "colab": {
          "base_uri": "https://localhost:8080/",
          "height": 318
        },
        "id": "s55WHCgpXx6L",
        "outputId": "d454bc5e-65e6-415d-faec-956585b6e7d4"
      },
      "outputs": [
        {
          "name": "stderr",
          "output_type": "stream",
          "text": [
            "<ipython-input-48-a1f47200ec73>:2: SettingWithCopyWarning: \n",
            "A value is trying to be set on a copy of a slice from a DataFrame.\n",
            "Try using .loc[row_indexer,col_indexer] = value instead\n",
            "\n",
            "See the caveats in the documentation: https://pandas.pydata.org/pandas-docs/stable/user_guide/indexing.html#returning-a-view-versus-a-copy\n",
            "  strider['whip'] = (strider['BB']+strider['H']) / (strider['IPouts']/3)\n",
            "<ipython-input-48-a1f47200ec73>:3: SettingWithCopyWarning: \n",
            "A value is trying to be set on a copy of a slice from a DataFrame.\n",
            "Try using .loc[row_indexer,col_indexer] = value instead\n",
            "\n",
            "See the caveats in the documentation: https://pandas.pydata.org/pandas-docs/stable/user_guide/indexing.html#returning-a-view-versus-a-copy\n",
            "  strider['obp_against'] = 1 - (strider['whip'])\n"
          ]
        },
        {
          "data": {
            "application/vnd.google.colaboratory.intrinsic+json": {
              "type": "dataframe",
              "variable_name": "strider"
            },
            "text/html": [
              "\n",
              "  <div id=\"df-b2df6efc-2565-4bb0-8ebc-a8e7ae8967a6\" class=\"colab-df-container\">\n",
              "    <div>\n",
              "<style scoped>\n",
              "    .dataframe tbody tr th:only-of-type {\n",
              "        vertical-align: middle;\n",
              "    }\n",
              "\n",
              "    .dataframe tbody tr th {\n",
              "        vertical-align: top;\n",
              "    }\n",
              "\n",
              "    .dataframe thead th {\n",
              "        text-align: right;\n",
              "    }\n",
              "</style>\n",
              "<table border=\"1\" class=\"dataframe\">\n",
              "  <thead>\n",
              "    <tr style=\"text-align: right;\">\n",
              "      <th></th>\n",
              "      <th>playerID</th>\n",
              "      <th>yearID</th>\n",
              "      <th>stint</th>\n",
              "      <th>teamID</th>\n",
              "      <th>lgID</th>\n",
              "      <th>W</th>\n",
              "      <th>L</th>\n",
              "      <th>G</th>\n",
              "      <th>GS</th>\n",
              "      <th>CG</th>\n",
              "      <th>...</th>\n",
              "      <th>HBP</th>\n",
              "      <th>BK</th>\n",
              "      <th>BFP</th>\n",
              "      <th>GF</th>\n",
              "      <th>R</th>\n",
              "      <th>SH</th>\n",
              "      <th>SF</th>\n",
              "      <th>GIDP</th>\n",
              "      <th>whip</th>\n",
              "      <th>obp_against</th>\n",
              "    </tr>\n",
              "  </thead>\n",
              "  <tbody>\n",
              "    <tr>\n",
              "      <th>44673</th>\n",
              "      <td>stridsp01</td>\n",
              "      <td>2023</td>\n",
              "      <td>1</td>\n",
              "      <td>ATL</td>\n",
              "      <td>NL</td>\n",
              "      <td>20</td>\n",
              "      <td>5</td>\n",
              "      <td>32</td>\n",
              "      <td>32</td>\n",
              "      <td>0</td>\n",
              "      <td>...</td>\n",
              "      <td>9.0</td>\n",
              "      <td>2</td>\n",
              "      <td>763.0</td>\n",
              "      <td>0</td>\n",
              "      <td>85</td>\n",
              "      <td>0.0</td>\n",
              "      <td>0.0</td>\n",
              "      <td>6.0</td>\n",
              "      <td>1.092857</td>\n",
              "      <td>-0.092857</td>\n",
              "    </tr>\n",
              "  </tbody>\n",
              "</table>\n",
              "<p>1 rows × 32 columns</p>\n",
              "</div>\n",
              "    <div class=\"colab-df-buttons\">\n",
              "\n",
              "  <div class=\"colab-df-container\">\n",
              "    <button class=\"colab-df-convert\" onclick=\"convertToInteractive('df-b2df6efc-2565-4bb0-8ebc-a8e7ae8967a6')\"\n",
              "            title=\"Convert this dataframe to an interactive table.\"\n",
              "            style=\"display:none;\">\n",
              "\n",
              "  <svg xmlns=\"http://www.w3.org/2000/svg\" height=\"24px\" viewBox=\"0 -960 960 960\">\n",
              "    <path d=\"M120-120v-720h720v720H120Zm60-500h600v-160H180v160Zm220 220h160v-160H400v160Zm0 220h160v-160H400v160ZM180-400h160v-160H180v160Zm440 0h160v-160H620v160ZM180-180h160v-160H180v160Zm440 0h160v-160H620v160Z\"/>\n",
              "  </svg>\n",
              "    </button>\n",
              "\n",
              "  <style>\n",
              "    .colab-df-container {\n",
              "      display:flex;\n",
              "      gap: 12px;\n",
              "    }\n",
              "\n",
              "    .colab-df-convert {\n",
              "      background-color: #E8F0FE;\n",
              "      border: none;\n",
              "      border-radius: 50%;\n",
              "      cursor: pointer;\n",
              "      display: none;\n",
              "      fill: #1967D2;\n",
              "      height: 32px;\n",
              "      padding: 0 0 0 0;\n",
              "      width: 32px;\n",
              "    }\n",
              "\n",
              "    .colab-df-convert:hover {\n",
              "      background-color: #E2EBFA;\n",
              "      box-shadow: 0px 1px 2px rgba(60, 64, 67, 0.3), 0px 1px 3px 1px rgba(60, 64, 67, 0.15);\n",
              "      fill: #174EA6;\n",
              "    }\n",
              "\n",
              "    .colab-df-buttons div {\n",
              "      margin-bottom: 4px;\n",
              "    }\n",
              "\n",
              "    [theme=dark] .colab-df-convert {\n",
              "      background-color: #3B4455;\n",
              "      fill: #D2E3FC;\n",
              "    }\n",
              "\n",
              "    [theme=dark] .colab-df-convert:hover {\n",
              "      background-color: #434B5C;\n",
              "      box-shadow: 0px 1px 3px 1px rgba(0, 0, 0, 0.15);\n",
              "      filter: drop-shadow(0px 1px 2px rgba(0, 0, 0, 0.3));\n",
              "      fill: #FFFFFF;\n",
              "    }\n",
              "  </style>\n",
              "\n",
              "    <script>\n",
              "      const buttonEl =\n",
              "        document.querySelector('#df-b2df6efc-2565-4bb0-8ebc-a8e7ae8967a6 button.colab-df-convert');\n",
              "      buttonEl.style.display =\n",
              "        google.colab.kernel.accessAllowed ? 'block' : 'none';\n",
              "\n",
              "      async function convertToInteractive(key) {\n",
              "        const element = document.querySelector('#df-b2df6efc-2565-4bb0-8ebc-a8e7ae8967a6');\n",
              "        const dataTable =\n",
              "          await google.colab.kernel.invokeFunction('convertToInteractive',\n",
              "                                                    [key], {});\n",
              "        if (!dataTable) return;\n",
              "\n",
              "        const docLinkHtml = 'Like what you see? Visit the ' +\n",
              "          '<a target=\"_blank\" href=https://colab.research.google.com/notebooks/data_table.ipynb>data table notebook</a>'\n",
              "          + ' to learn more about interactive tables.';\n",
              "        element.innerHTML = '';\n",
              "        dataTable['output_type'] = 'display_data';\n",
              "        await google.colab.output.renderOutput(dataTable, element);\n",
              "        const docLink = document.createElement('div');\n",
              "        docLink.innerHTML = docLinkHtml;\n",
              "        element.appendChild(docLink);\n",
              "      }\n",
              "    </script>\n",
              "  </div>\n",
              "\n",
              "\n",
              "  <div id=\"id_42e591e5-4c6a-4d8b-a770-f5bff6819f71\">\n",
              "    <style>\n",
              "      .colab-df-generate {\n",
              "        background-color: #E8F0FE;\n",
              "        border: none;\n",
              "        border-radius: 50%;\n",
              "        cursor: pointer;\n",
              "        display: none;\n",
              "        fill: #1967D2;\n",
              "        height: 32px;\n",
              "        padding: 0 0 0 0;\n",
              "        width: 32px;\n",
              "      }\n",
              "\n",
              "      .colab-df-generate:hover {\n",
              "        background-color: #E2EBFA;\n",
              "        box-shadow: 0px 1px 2px rgba(60, 64, 67, 0.3), 0px 1px 3px 1px rgba(60, 64, 67, 0.15);\n",
              "        fill: #174EA6;\n",
              "      }\n",
              "\n",
              "      [theme=dark] .colab-df-generate {\n",
              "        background-color: #3B4455;\n",
              "        fill: #D2E3FC;\n",
              "      }\n",
              "\n",
              "      [theme=dark] .colab-df-generate:hover {\n",
              "        background-color: #434B5C;\n",
              "        box-shadow: 0px 1px 3px 1px rgba(0, 0, 0, 0.15);\n",
              "        filter: drop-shadow(0px 1px 2px rgba(0, 0, 0, 0.3));\n",
              "        fill: #FFFFFF;\n",
              "      }\n",
              "    </style>\n",
              "    <button class=\"colab-df-generate\" onclick=\"generateWithVariable('strider')\"\n",
              "            title=\"Generate code using this dataframe.\"\n",
              "            style=\"display:none;\">\n",
              "\n",
              "  <svg xmlns=\"http://www.w3.org/2000/svg\" height=\"24px\"viewBox=\"0 0 24 24\"\n",
              "       width=\"24px\">\n",
              "    <path d=\"M7,19H8.4L18.45,9,17,7.55,7,17.6ZM5,21V16.75L18.45,3.32a2,2,0,0,1,2.83,0l1.4,1.43a1.91,1.91,0,0,1,.58,1.4,1.91,1.91,0,0,1-.58,1.4L9.25,21ZM18.45,9,17,7.55Zm-12,3A5.31,5.31,0,0,0,4.9,8.1,5.31,5.31,0,0,0,1,6.5,5.31,5.31,0,0,0,4.9,4.9,5.31,5.31,0,0,0,6.5,1,5.31,5.31,0,0,0,8.1,4.9,5.31,5.31,0,0,0,12,6.5,5.46,5.46,0,0,0,6.5,12Z\"/>\n",
              "  </svg>\n",
              "    </button>\n",
              "    <script>\n",
              "      (() => {\n",
              "      const buttonEl =\n",
              "        document.querySelector('#id_42e591e5-4c6a-4d8b-a770-f5bff6819f71 button.colab-df-generate');\n",
              "      buttonEl.style.display =\n",
              "        google.colab.kernel.accessAllowed ? 'block' : 'none';\n",
              "\n",
              "      buttonEl.onclick = () => {\n",
              "        google.colab.notebook.generateWithVariable('strider');\n",
              "      }\n",
              "      })();\n",
              "    </script>\n",
              "  </div>\n",
              "\n",
              "    </div>\n",
              "  </div>\n"
            ],
            "text/plain": [
              "        playerID  yearID  stint teamID lgID   W  L   G  GS  CG  ...  HBP  BK  \\\n",
              "44673  stridsp01    2023      1    ATL   NL  20  5  32  32   0  ...  9.0   2   \n",
              "\n",
              "         BFP  GF   R   SH   SF  GIDP      whip  obp_against  \n",
              "44673  763.0   0  85  0.0  0.0   6.0  1.092857    -0.092857  \n",
              "\n",
              "[1 rows x 32 columns]"
            ]
          },
          "execution_count": 48,
          "metadata": {},
          "output_type": "execute_result"
        }
      ],
      "source": [
        "# add stats - calc whip\n",
        "strider['whip'] = (strider['BB']+strider['H']) / (strider['IPouts']/3)\n",
        "strider['obp_against'] = 1 - (strider['whip'])\n",
        "# whip is how many runners get on, so obp against is 1-whip or prob the batter is not getting on base against the pitcher\n",
        "strider"
      ]
    },
    {
      "cell_type": "code",
      "execution_count": 49,
      "metadata": {
        "id": "giPotHG1ZQ_g"
      },
      "outputs": [],
      "source": [
        "def at_bat(batter_obp, pitcher_obp_against):\n",
        "  \"\"\"Simulate an at-bat and return True if the runner gets on base and False otherwise\"\"\"\n",
        "  # adjust obp based on the pitcher's stat\n",
        "  # standardize metrics?\n",
        "  # batter_obp - pitcher_obp is the difference between on based allowed, tells us if the batter is better or worse at getting on base compared to the pitchers ability to prevent it\n",
        "  # adjust by 0.5, can be adjusted but this is a scaling factor\n",
        "  adjusted_obp = batter_obp - (batter_obp - pitcher_obp_against) * 0.5\n",
        "\n",
        "  # generate random number and compare to adjusted obp\n",
        "  if np.random.rand() < adjusted_obp:\n",
        "    return 1 # batter gets on\n",
        "  else:\n",
        "    return 0 # batter does not get on\n",
        "\n"
      ]
    },
    {
      "cell_type": "code",
      "execution_count": 50,
      "metadata": {
        "id": "UtWLFG71asHb"
      },
      "outputs": [],
      "source": [
        "def simulate(trials, batter_obp, pitcher_obp_against):\n",
        "  on_base_count = 0\n",
        "  for i in range(trials):\n",
        "    on_base_count += at_bat(batter_obp, pitcher_obp_against)\n",
        "  # prob simulation batter gets on base\n",
        "  return on_base_count/trials"
      ]
    },
    {
      "cell_type": "code",
      "execution_count": 58,
      "metadata": {
        "colab": {
          "base_uri": "https://localhost:8080/"
        },
        "id": "haY213kSbU2B",
        "outputId": "064cc104-b831-45ab-a0cc-99cb5f00d221"
      },
      "outputs": [
        {
          "name": "stdout",
          "output_type": "stream",
          "text": [
            "probability Devers gets on base: 12.479999999999999\n",
            "probability Casas gets on base: 13.459999999999999\n"
          ]
        }
      ],
      "source": [
        "devers_on_base = simulate(10000, devers.OBP.iloc[0], strider.obp_against.iloc[0])\n",
        "casas_on_base = simulate(10000, casas.OBP.iloc[0], strider.obp_against.iloc[0])\n",
        "print('probability Devers gets on base:', devers_on_base*100)\n",
        "print('probability Casas gets on base:', casas_on_base*100)"
      ]
    },
    {
      "cell_type": "code",
      "execution_count": 53,
      "metadata": {
        "id": "2JZF6VuqQbE2"
      },
      "outputs": [],
      "source": [
        "# defense\n",
        "# ops (current and pinch)\n",
        "# ba (current and pinch)\n",
        "# ba with bases loaded\n",
        "# pitcher era\n",
        "# pitcher whip\n",
        "# pitcher history with batter\n",
        "# types of pitches"
      ]
    },
    {
      "cell_type": "code",
      "execution_count": null,
      "metadata": {
        "id": "a4VtF4uibrQH"
      },
      "outputs": [],
      "source": []
    }
  ],
  "metadata": {
    "colab": {
      "collapsed_sections": [
        "a_qyn221VEdY",
        "ZMDIG1XVSpT-"
      ],
      "provenance": []
    },
    "kernelspec": {
      "display_name": "Python 3",
      "name": "python3"
    },
    "language_info": {
      "name": "python"
    }
  },
  "nbformat": 4,
  "nbformat_minor": 0
}
